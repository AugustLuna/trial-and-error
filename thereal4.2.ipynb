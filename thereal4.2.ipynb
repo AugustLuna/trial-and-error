{
 "cells": [
  {
   "cell_type": "code",
   "execution_count": 3,
   "metadata": {},
   "outputs": [],
   "source": [
    "import numpy as np\n",
    "\n",
    "import matplotlib.pyplot as plt #all this stuff imprts packages. this is imporatant. you only need this once\n",
    "\n",
    "%matplotlib inline"
   ]
  },
  {
   "cell_type": "code",
   "execution_count": 4,
   "metadata": {},
   "outputs": [
    {
     "name": "stdout",
     "output_type": "stream",
     "text": [
      "[[0.2910967  0.65746738 0.85414908 0.51183083 0.22607325]\n",
      " [0.12645293 0.90294266 0.59005739 0.75125493 0.71641913]\n",
      " [0.47534458 0.35775912 0.52730138 0.95260624 0.24552781]]\n"
     ]
    }
   ],
   "source": [
    "color_boi= np.random.rand(3,5) #randomizes numbers\n",
    " \n",
    "print(color_boi)"
   ]
  },
  {
   "cell_type": "code",
   "execution_count": 14,
   "metadata": {},
   "outputs": [
    {
     "name": "stdout",
     "output_type": "stream",
     "text": [
      "[[0.08405141 0.17432574 0.93207716 0.00909276 0.06619823]\n",
      " [0.15774208 0.77138725 0.26340236 0.27972122 0.22544382]\n",
      " [0.31789966 0.49550291 0.31671725 0.33732744 0.30829253]]\n"
     ]
    },
    {
     "data": {
      "image/png": "[encoded data removed]",
      "text/plain": [
       "<Figure size 432x288 with 2 Axes>"
      ]
     },
     "metadata": {
      "needs_background": "light"
     },
     "output_type": "display_data"
    }
   ],
   "source": [
    "\n",
    "color_boi= np.random.rand(3,5)\n",
    "plt.pcolormesh(color_boi)#makes it colorful\n",
    "plt.colorbar() #shows u the sicc colors on a bar next to the graph boi\n",
    "\n",
    "print(color_boi)\n"
   ]
  },
  {
   "cell_type": "code",
   "execution_count": null,
   "metadata": {},
   "outputs": [],
   "source": []
  }
 ],
 "metadata": {
  "kernelspec": {
   "display_name": "Python 3",
   "language": "python",
   "name": "python3"
  },
  "language_info": {
   "codemirror_mode": {
    "name": "ipython",
    "version": 3
   },
   "file_extension": ".py",
   "mimetype": "text/x-python",
   "name": "python",
   "nbconvert_exporter": "python",
   "pygments_lexer": "ipython3",
   "version": "3.7.3"
  }
 },
 "nbformat": 4,
 "nbformat_minor": 4
}
