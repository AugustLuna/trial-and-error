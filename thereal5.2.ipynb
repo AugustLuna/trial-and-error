{
 "cells": [
  {
   "cell_type": "code",
   "execution_count": 31,
   "metadata": {},
   "outputs": [
    {
     "name": "stdout",
     "output_type": "stream",
     "text": [
      "729000 90\n"
     ]
    }
   ],
   "source": [
    "# function to calculate volume of a cube given length of side.\n",
    "import matplotlib.pyplot as plt #import the functions\n",
    "import numpy as np\n",
    "import xarray as xr\n",
    "def cube_vol(s): #define the cube\n",
    "    vol = s**3 #this is the volume formula\n",
    "    return vol, #this is the output\n",
    "vol, side = cube_vol(90) #this is where you put your number into\n",
    "print (vol,side)"
   ]
  },
  {
   "cell_type": "code",
   "execution_count": null,
   "metadata": {},
   "outputs": [],
   "source": []
  },
  {
   "cell_type": "code",
   "execution_count": 3,
   "metadata": {},
   "outputs": [
    {
     "name": "stdin",
     "output_type": "stream",
     "text": [
      "side of cube in units 700000\n"
     ]
    },
    {
     "name": "stdout",
     "output_type": "stream",
     "text": [
      "the volume of the cube is 343000000000000000 unites cubed, and the side is 700000 units\n"
     ]
    }
   ],
   "source": [
    "#the other function didn't work for me, so i did this\n",
    "side= int(input(\"side of cube in units\"))\n",
    "\n",
    "volume= side**3\n",
    "\n",
    "print (\"the volume of the cube is\", volume, \"unites cubed, and the side is\", side,\"units\")\n",
    "#update, now the frist code worked!"
   ]
  },
  {
   "cell_type": "code",
   "execution_count": null,
   "metadata": {},
   "outputs": [],
   "source": []
  }
 ],
 "metadata": {
  "kernelspec": {
   "display_name": "Python 3",
   "language": "python",
   "name": "python3"
  },
  "language_info": {
   "codemirror_mode": {
    "name": "ipython",
    "version": 3
   },
   "file_extension": ".py",
   "mimetype": "text/x-python",
   "name": "python",
   "nbconvert_exporter": "python",
   "pygments_lexer": "ipython3",
   "version": "3.7.3"
  }
 },
 "nbformat": 4,
 "nbformat_minor": 4
}
