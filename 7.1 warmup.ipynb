{
 "cells": [
  {
   "cell_type": "code",
   "execution_count": 13,
   "metadata": {},
   "outputs": [],
   "source": [
    "import numpy as np\n",
    "import math\n",
    "import matplotlib.pyplot as plt"
   ]
  },
  {
   "cell_type": "code",
   "execution_count": 25,
   "metadata": {},
   "outputs": [
    {
     "name": "stdout",
     "output_type": "stream",
     "text": [
      "circumerfence:1.4927053303604616\n",
      "radius:9.378944199669503\n"
     ]
    },
    {
     "data": {
      "text/plain": [
       "(None, None)"
      ]
     },
     "execution_count": 25,
     "metadata": {},
     "output_type": "execute_result"
    }
   ],
   "source": [
    "def circle (a): #defining a circle\n",
    "    x= a/math.pi #math stuffs\n",
    "    radius= math.sqrt(x)#more math stuffs\n",
    "    circ= radius*2*math.pi#even more math stuffs\n",
    "    \n",
    "    return circ, radius #what you're getting out of all that maths stuffs\n",
    "\n",
    "print(\"circumerfence:\"+ str(radius)), print(\"radius:\" +str(circ)) #not sure what the (none, none means yet but I think that's the ammount of inputs)"
   ]
  },
  {
   "cell_type": "code",
   "execution_count": 4,
   "metadata": {},
   "outputs": [
    {
     "name": "stdin",
     "output_type": "stream",
     "text": [
      "Give the area of a circle: 7\n"
     ]
    },
    {
     "name": "stdout",
     "output_type": "stream",
     "text": [
      "the radius is 1.4927053303604616 units and the circumfrence is 9.378944199669503 units.\n"
     ]
    }
   ],
   "source": [
    "#trial 1\n",
    "\n",
    "a= int(input(\"Give the area of a circle:\"))\n",
    "import math\n",
    "\n",
    "x= a/math.pi\n",
    "\n",
    "radius= math.sqrt(x)\n",
    "\n",
    "circ= radius*2*math.pi\n",
    "\n",
    "print (\"the radius is\", radius, 'units and the circumfrence is', circ, \"units.\")"
   ]
  }
 ],
 "metadata": {
  "kernelspec": {
   "display_name": "Python 3",
   "language": "python",
   "name": "python3"
  },
  "language_info": {
   "codemirror_mode": {
    "name": "ipython",
    "version": 3
   },
   "file_extension": ".py",
   "mimetype": "text/x-python",
   "name": "python",
   "nbconvert_exporter": "python",
   "pygments_lexer": "ipython3",
   "version": "3.7.3"
  }
 },
 "nbformat": 4,
 "nbformat_minor": 4
}
